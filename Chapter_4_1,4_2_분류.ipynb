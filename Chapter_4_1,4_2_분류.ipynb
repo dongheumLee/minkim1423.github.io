{
  "nbformat": 4,
  "nbformat_minor": 0,
  "metadata": {
    "colab": {
      "name": "Chapter.4-1,4-2 분류",
      "provenance": [],
      "collapsed_sections": [],
      "authorship_tag": "ABX9TyO2DvZ9fncsbSfNoVkT0IaC",
      "include_colab_link": true
    },
    "kernelspec": {
      "name": "python3",
      "display_name": "Python 3"
    },
    "language_info": {
      "name": "python"
    }
  },
  "cells": [
    {
      "cell_type": "markdown",
      "metadata": {
        "id": "view-in-github",
        "colab_type": "text"
      },
      "source": [
        "<a href=\"https://colab.research.google.com/github/dongheumLee/minkim1423.github.io/blob/main/Chapter_4_1%2C4_2_%EB%B6%84%EB%A5%98.ipynb\" target=\"_parent\"><img src=\"https://colab.research.google.com/assets/colab-badge.svg\" alt=\"Open In Colab\"/></a>"
      ]
    },
    {
      "cell_type": "markdown",
      "metadata": {
        "id": "vk-IwztjKEF5"
      },
      "source": [
        "\n",
        "* **Chapter 4 분류**\n",
        "\n",
        "  *  3장에서 알아본 선형회귀분석모델을 보면 반응변수 Y를 양적으로 가정하고 있다\n",
        "  *  그러나 많은 Case들은 반응변수들이 질적 변수의 특징을 가지고 있다\n",
        "  * 질적 변수의 예시 : 사람의 눈의 색깔은 검은색 이외 갈색 녹색 등의 색깔등을 가지고 있음 \n",
        "      * 즉 분류 자체를 숫자적으로 딱 떨어트려서 표현할 수가 없음 \n",
        "      * 질적 변수를 예측하는 것이란 관측치를 분류하는 것이라고 할수가 있다\n",
        "      * 그 이유는 관측치를 범주 또는 클레스로 할당하는 것에 관련되기 때문 \n",
        "      * 보통 질적 변수의 각 범주에 대한 확률을 예측하며  이 것을 분류의 근거로 삼게 된다.        \n",
        "\n"
      ]
    },
    {
      "cell_type": "markdown",
      "metadata": {
        "id": "9OB13SjjSUDI"
      },
      "source": [
        "**로지스틱 회귀(Logistic regression)**\n",
        "  * 로지스틱 회귀는 일반적인 선형 회귀 분석과 동일하게 종속 변수와 독립 변수간위 관계를 구체적인 함수로 나타내 향후 예측 모델에 이용하는 것\n",
        "  * 독립 변수의 선형 결합으로 종속 변수를 설명한다는 관점에서는 선형 회귀 분석과 비슷함\n",
        "  * 그러나 종속 변수가 범주형 데이터를 기반으로 하기에 해당 데이터의 결과가 특정 분류로 나뉘고 있다\n",
        "  * 이용되는 분야는 의학 및 소셜 분석이며 이 외 많은 분야에서 이용되고 있다."
      ]
    },
    {
      "cell_type": "markdown",
      "metadata": {
        "id": "hsgWXpIQaAC8"
      },
      "source": [
        "**선형판별분석 (Linear Discriminant Analysis : LDA)**  \n",
        "  *  다른 클래스에 속하는 데이터들을 선형으로 분류가 가능하도록 데이터 포인트들을 투영시키는 머신러닝 알고리즘\n",
        "  * 데이터를 특정한 축에 사영 (projection) 후 두 범주를 잘 구분할 수 있는 직선을 찾아내는 것이며 \n",
        "  * 두 범주를 구분할 수 있는 직선을 찾아내기 위해서는 두 범주의 중심(평균)이 서로 멀고 서로간에 분산이 작아야 함\n",
        "  * 각 클레스 집단이 정규분포 형태의 확률분포위 형태를 가지고 있고 비슷한 공분산 구조를 가지고 있어야 함\n",
        "  \n"
      ]
    },
    {
      "cell_type": "markdown",
      "metadata": {
        "id": "eENPhwzBf2yq"
      },
      "source": [
        "[LDA의 예시 그림](http://imgur.com/6ggd2F0)\n",
        "\n",
        "* 빨간색 점과 파란색 점을 분류하는 것을 목표로 하는 그림\n",
        "* 왼쪽 그림은 중간에 빨간색 점과 파란색 점이 뒤섞여 있으나 오른쪽 그림은 색깔이 다른 점들이 뚜렸하게 구분되어 있음 \n",
        "* 두 범주를 잘 구분 하려면 서로간에 평균이 멀고 분산이 작아야 할 것이며 선형판별분석은 이러한 직선을 찾는 것을 목적으로 한다그림](http://imgur.com/6ggd2F0)\n",
        "\n",
        "* 빨간색 점과 파란색 점을 분류하는 것을 목표로 하는 그림\n",
        "* 왼쪽 그림은 중간에 빨간색 점과 파란색 점이 뒤섞여 있으나 오른쪽 그림은 색깔이 다른 점들이 뚜렸하게 구분되어 있음 \n",
        "* 두 범주를 잘 구분 하려면 서로간에 평균이 멀고 분산이 작아야 할 것이며 선형판별분석은 이러한 직선을 찾는 것을 목적으로 한다"
      ]
    },
    {
      "cell_type": "markdown",
      "metadata": {
        "id": "CrZnXQ0-Y3ja"
      },
      "source": [
        "** K-최근접이웃**\n",
        "  * 데이터로부터 거리가 가까운 k개의 다른 데이터의 레이블을 참고해서 분류하는 알고리즘\n",
        "  * 데이터 간 거리를 측정 할 시 '유클리디안 거리' 계산법을 사용법을 이용 \n",
        "  * 알고리즘 자체로 의료 분야나 유전자 데이터 패턴 인식 암 진단 등등에 이용되고 있음\n",
        "  * 다만 생성하지 않는 면이 있어서 클레스간의 관계를 이해하는데 제한적임"
      ]
    },
    {
      "cell_type": "markdown",
      "metadata": {
        "id": "HnRoe7rlf2Lv"
      },
      "source": [
        "** 질적변수에서 선형회귀를 이용하지 않는 이유**\n",
        "\n",
        "  *  이진 반응 변수인 경우 최소제곱에 대한 회귀는 의미가  있으나 추정치를 구성할시 0 아니면 1로 구성하기 때문에 확률로 해석하기 어려운 것이 있다 이러한 점 때문에 질적 반응 변수에는 각자가 잘 맞는 분류 방식으로 분류를 사용하는 것이 중요하다"
      ]
    }
  ]
}